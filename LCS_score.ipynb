{
 "cells": [
  {
   "cell_type": "code",
   "execution_count": 1,
   "id": "0e602ebc",
   "metadata": {},
   "outputs": [],
   "source": [
    "# the function takes 5 values \n",
    "# seq1      -> the first sequence \n",
    "# seq2      -> the second sequence \n",
    "# mismatch  -> mismatch score\n",
    "# match     -> match score\n",
    "# gap       -> gab benality \n",
    "\n",
    "def LCS_score(Seq1, Seq2, mismatch, match, gap):\n",
    "    \n",
    "    \n",
    "    L = [[0 for x in range(len(Seq2)+1)] for x in range(len(Seq1)+1)]\n",
    "    prev_1=0\n",
    "    prev_2=0\n",
    "\n",
    "    # intialize 1st row by gap incremental value \n",
    "    for i in range(len(Seq1)+1):\n",
    "        L[i][0] =prev_2\n",
    "        prev_2=gap+prev_2 \n",
    "    \n",
    "    # intialize 1st colomn by gap incremental value \n",
    "    for j in range(len(Seq2)+1):\n",
    "        L[0][j] =prev_1\n",
    "        prev_1=gap+prev_1\n",
    "        \n",
    "    # Building the scoring matrix\n",
    "    for i in range(1,len(Seq1)+1):\n",
    "        for j in range(1,len(Seq2)+1):\n",
    "        \n",
    "\n",
    "                \n",
    "            if ((L[i-1][j]  == L[i][j-1]) and (Seq1[i-1] == Seq2[j-1])) :\n",
    "                L[i][j] = L[i-1][j-1] + match\n",
    "                \n",
    "            elif  (Seq1[i-1] == Seq2[j-1]) and  (L[i-1][j]  != L[i][j-1]):\n",
    "                L[i][j] = L[i-1][j-1] + match\n",
    "                \n",
    "            elif  (Seq1[i-1] != Seq2[j-1]) and  (L[i-1][j]  == L[i][j-1]):\n",
    "                L[i][j] = L[i-1][j-1] + mismatch \n",
    "                \n",
    "            else :\n",
    "                L[i][j] = max(L[i-1][j], L[i][j-1])+gap\n",
    "                  \n",
    "                \n",
    "    return L   \n"
   ]
  },
  {
   "cell_type": "code",
   "execution_count": 2,
   "id": "a375c2fa",
   "metadata": {},
   "outputs": [
    {
     "name": "stdout",
     "output_type": "stream",
     "text": [
      "Enter first string : CTTAACT\n",
      "Enter second string: CGGATCAT\n",
      "Enter match score: 8\n",
      "Enter mismatch score: -5\n",
      "Enter gap score: -3\n"
     ]
    }
   ],
   "source": [
    "Seq1 = input('Enter first string : ')\n",
    "Seq2 = input('Enter second string: ')\n",
    "match = int(input('Enter match score: '))\n",
    "mismatch = int(input('Enter mismatch score: '))\n",
    "gap = int(input('Enter gap score: '))\n",
    "\n",
    "result = LCS_score( Seq1, Seq2, mismatch, match, gap)"
   ]
  },
  {
   "cell_type": "code",
   "execution_count": 3,
   "id": "1f55ef35",
   "metadata": {},
   "outputs": [
    {
     "data": {
      "text/plain": [
       "[[0, -3, -6, -9, -12, -15, -18, -21, -24],\n",
       " [-3, 8, 5, 2, -1, -4, -7, -10, -13],\n",
       " [-6, 5, 3, 0, -3, 7, 4, 1, -2],\n",
       " [-9, 2, 0, -2, -5, 5, 2, -1, 9],\n",
       " [-12, -1, -3, -5, 6, 3, 0, 10, 7],\n",
       " [-15, -4, -6, -8, 3, 1, -2, 8, 5],\n",
       " [-18, -7, -9, -11, 0, -2, 9, 6, 3],\n",
       " [-21, -10, -12, -14, -3, 8, 6, 4, 14]]"
      ]
     },
     "execution_count": 3,
     "metadata": {},
     "output_type": "execute_result"
    }
   ],
   "source": [
    "result"
   ]
  },
  {
   "cell_type": "code",
   "execution_count": 4,
   "id": "bf4c0569",
   "metadata": {},
   "outputs": [
    {
     "name": "stdout",
     "output_type": "stream",
     "text": [
      "5\n"
     ]
    }
   ],
   "source": [
    "print(result[3][5]) # the value in the slides is 4 "
   ]
  }
 ],
 "metadata": {
  "kernelspec": {
   "display_name": "Python 3",
   "language": "python",
   "name": "python3"
  },
  "language_info": {
   "codemirror_mode": {
    "name": "ipython",
    "version": 3
   },
   "file_extension": ".py",
   "mimetype": "text/x-python",
   "name": "python",
   "nbconvert_exporter": "python",
   "pygments_lexer": "ipython3",
   "version": "3.8.8"
  }
 },
 "nbformat": 4,
 "nbformat_minor": 5
}
